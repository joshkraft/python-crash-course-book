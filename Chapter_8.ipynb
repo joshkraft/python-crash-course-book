{
 "metadata": {
  "language_info": {
   "codemirror_mode": {
    "name": "ipython",
    "version": 3
   },
   "file_extension": ".py",
   "mimetype": "text/x-python",
   "name": "python",
   "nbconvert_exporter": "python",
   "pygments_lexer": "ipython3",
   "version": "3.7.4-final"
  },
  "orig_nbformat": 2,
  "kernelspec": {
   "name": "python3",
   "display_name": "Python 3"
  }
 },
 "nbformat": 4,
 "nbformat_minor": 2,
 "cells": [
  {
   "source": [
    "# Chapter 8: Functions"
   ],
   "cell_type": "markdown",
   "metadata": {}
  },
  {
   "source": [
    "## Key Terms\n",
    "Function: Named block of code designed to do one thing.\n",
    "\n",
    "Parameter: piece of information the function needs to execute.\n",
    "\n",
    "Argument: piece of information passed to a function call."
   ],
   "cell_type": "markdown",
   "metadata": {}
  },
  {
   "source": [
    "### Arguments\n",
    "Arguments can be handled in a few ways:\n",
    "\n",
    "1. Positional arguments (assigned based on the order they are passed)\n",
    "2. Keyword arguments (assigned based on explicit declaration ie. type='dog')\n",
    "3. List/Dict of arguments\n",
    "\n",
    "*Note*: arguments with default values should be at the end of the list of args:\n",
    "\n",
    "```python\n",
    "def get_formatted_name(first_name, last_name, middle_name=''):\n",
    "    if middle_name:\n",
    "        return first_name + middle_name + last_name\n",
    "    else:\n",
    "        return first_name + last_name\n",
    "```\n",
    "\n",
    "#### Arbitrary Arguments (*args)\n",
    "It is important to note that you don't always know how many arguments you will be passing. In that case, you can pass an arbitrary number of arguments. Using the * operator tells Python to create an empty tuple, and pack all of the arguments in it:\n",
    "\n",
    "> Note: you often see a generic parameter, *args, which collects these arbitrary arguments"
   ],
   "cell_type": "markdown",
   "metadata": {}
  },
  {
   "source": [
    "def make_pizza(*toppings):\n",
    "    \"\"\"Print the list of toppings that has been requested\"\"\"\n",
    "    print('Toppings list')\n",
    "    for topping in toppings:\n",
    "        print('  - ' + topping)\n",
    "\n",
    "make_pizza('pizza', 'mushrooms')"
   ],
   "cell_type": "code",
   "metadata": {},
   "execution_count": 20,
   "outputs": [
    {
     "output_type": "stream",
     "name": "stdout",
     "text": [
      "Toppings list\n  - pizza\n  - mushrooms\n"
     ]
    }
   ]
  },
  {
   "source": [
    "#### Arbitrary *Keyword* Arguments (**kwargs)"
   ],
   "cell_type": "markdown",
   "metadata": {}
  },
  {
   "source": [
    "### Return Types\n",
    "You can return pretty much anything from a function. For example, you can return objects, collections of objects, or boolean values.\n",
    "\n",
    "If you want to pass a collection/list, without mutating the original list, you can use a slice like this:\n",
    "```\n",
    "list_fxn(list[:])\n",
    "```"
   ],
   "cell_type": "markdown",
   "metadata": {}
  },
  {
   "cell_type": "code",
   "execution_count": null,
   "metadata": {},
   "outputs": [],
   "source": []
  }
 ]
}
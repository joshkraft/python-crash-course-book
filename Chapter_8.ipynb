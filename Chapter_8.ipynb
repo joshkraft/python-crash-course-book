{
 "metadata": {
  "language_info": {
   "codemirror_mode": {
    "name": "ipython",
    "version": 3
   },
   "file_extension": ".py",
   "mimetype": "text/x-python",
   "name": "python",
   "nbconvert_exporter": "python",
   "pygments_lexer": "ipython3",
   "version": "3.7.4-final"
  },
  "orig_nbformat": 2,
  "kernelspec": {
   "name": "python3",
   "display_name": "Python 3"
  }
 },
 "nbformat": 4,
 "nbformat_minor": 2,
 "cells": [
  {
   "source": [
    "# Chapter 8: Functions"
   ],
   "cell_type": "markdown",
   "metadata": {}
  },
  {
   "source": [
    "## Key Terms\n",
    "Function: Named block of code designed to do one thing.\n",
    "\n",
    "Parameter: piece of information the function needs to execute.\n",
    "\n",
    "Argument: piece of information passed to a function call.\n",
    "\n",
    "Module: basically, just a separate file"
   ],
   "cell_type": "markdown",
   "metadata": {}
  },
  {
   "source": [
    "### Arguments\n",
    "Arguments can be handled in a few ways:\n",
    "\n",
    "1. Positional arguments (assigned based on the order they are passed)\n",
    "2. Keyword arguments (assigned based on explicit declaration ie. type='dog')\n",
    "3. List/Dict of arguments\n",
    "\n",
    "*Note*: arguments with default values should be at the end of the list of args:\n",
    "\n",
    "```python\n",
    "def get_formatted_name(first_name, last_name, middle_name=''):\n",
    "    if middle_name:\n",
    "        return first_name + middle_name + last_name\n",
    "    else:\n",
    "        return first_name + last_name\n",
    "```\n",
    "\n",
    "#### Arbitrary Arguments (*args)\n",
    "It is important to note that you don't always know how many arguments you will be passing. In that case, you can pass an arbitrary number of arguments. Using the * operator tells Python to create an empty tuple, and pack all of the arguments in it:\n",
    "\n",
    "(Note: you often see a generic parameter, *args, which collects these arbitrary arguments)"
   ],
   "cell_type": "markdown",
   "metadata": {}
  },
  {
   "source": [
    "def make_pizza(*toppings):\n",
    "    \"\"\"Print the list of toppings that has been requested\"\"\"\n",
    "    print('Toppings list')\n",
    "    for topping in toppings:\n",
    "        print('  - ' + topping)\n",
    "\n",
    "make_pizza('pizza', 'mushrooms')"
   ],
   "cell_type": "code",
   "metadata": {},
   "execution_count": 20,
   "outputs": [
    {
     "output_type": "stream",
     "name": "stdout",
     "text": [
      "Toppings list\n  - pizza\n  - mushrooms\n"
     ]
    }
   ]
  },
  {
   "source": [
    "#### Arbitrary *Keyword* Arguments (**kwargs)\n",
    "\n",
    "Sometimes, you need to accept an arbitrary number of arguments, but without knowing what kind of data will be passed to the function. In this case, you can writing a function to accept an arbitrary number of key:value pairs. In the folling case, we are instructing Python to take any key:value pairs it recieves after first name and last name and build a dictionary called user_info. Then, we add the first and last names to this dictionary and return it.\n",
    "\n",
    "(Note: you often see a generic parameter, *kwargs, which collects these arbitrary keyword arguments)"
   ],
   "cell_type": "markdown",
   "metadata": {}
  },
  {
   "cell_type": "code",
   "execution_count": 28,
   "metadata": {},
   "outputs": [
    {
     "output_type": "stream",
     "name": "stdout",
     "text": [
      "{'location': 'Princeton', 'field': 'physics', 'first_name': 'albert', 'last_name': 'einstein'}\n"
     ]
    }
   ],
   "source": [
    "def build_profile(first, last, **user_info):\n",
    "    \"\"\"Build a dictionary containing everything we know about a user\"\"\"\n",
    "    user_info['first_name'] = first\n",
    "    user_info['last_name'] = last\n",
    "    return user_info\n",
    "\n",
    "user_profile = build_profile('albert', 'einstein', \n",
    "                             location='Princeton', \n",
    "                             field='physics')\n",
    "print(user_profile)"
   ]
  },
  {
   "source": [
    "### Modules\n",
    "\n",
    "Another core Python concept is Modules. At a basic level, modules are just other files that hold code. As an example, we created another file in this directory called pizza.py. We can import it into our program, and use those functions without having to see them:"
   ],
   "cell_type": "markdown",
   "metadata": {}
  },
  {
   "cell_type": "code",
   "execution_count": 35,
   "metadata": {},
   "outputs": [
    {
     "output_type": "stream",
     "name": "stdout",
     "text": [
      "Making a large pizza with the following toppings: \n  - pepperoni\n  - cheese\n"
     ]
    }
   ],
   "source": [
    "import pizza\n",
    "\n",
    "pizza.make_pizza('large', 'pepperoni', 'cheese')"
   ]
  },
  {
   "source": [
    "It is important to note that you will often want to only import specific functions, and not an entire module. This is how you would do that:\n",
    "\n",
    "```\n",
    "from pizza import make_pizza, other_fxn\n",
    "```\n",
    "\n",
    "Additionally, you can do the following:\n",
    "\n",
    "- import modules to an alias:\n",
    "```\n",
    "import module as mn\n",
    "```\n",
    "- import all functions in a module (typically not advised, can leading to naming collisions): \n",
    "```\n",
    "from pizza import *\n",
    "```\n",
    "\n",
    "One last note... one of the big perks of functions is testability. If the bulk of the logic in your program is performed by functions, you will have a much easier time testing those than testing arbitrary code blocks."
   ],
   "cell_type": "markdown",
   "metadata": {}
  }
 ]
}